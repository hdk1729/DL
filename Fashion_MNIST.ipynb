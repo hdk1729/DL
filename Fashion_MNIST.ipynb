{
  "nbformat": 4,
  "nbformat_minor": 0,
  "metadata": {
    "colab": {
      "provenance": [],
      "authorship_tag": "ABX9TyOu73TsR+Rrtu2skeVzbzEO",
      "include_colab_link": true
    },
    "kernelspec": {
      "name": "python3",
      "display_name": "Python 3"
    },
    "language_info": {
      "name": "python"
    }
  },
  "cells": [
    {
      "cell_type": "markdown",
      "metadata": {
        "id": "view-in-github",
        "colab_type": "text"
      },
      "source": [
        "<a href=\"https://colab.research.google.com/github/hdk1729/DL/blob/main/Fashion_MNIST.ipynb\" target=\"_parent\"><img src=\"https://colab.research.google.com/assets/colab-badge.svg\" alt=\"Open In Colab\"/></a>"
      ]
    },
    {
      "cell_type": "markdown",
      "source": [
        "# Basic way to implement neural network by tensorflow"
      ],
      "metadata": {
        "id": "KYWfZOR2ZKMn"
      }
    },
    {
      "cell_type": "markdown",
      "source": [
        "Fashion Dataset\n",
        "Neural Network need data to learn. There is data called Fashion MNIST dataset( Zalando's article images) with 0,000 images of 28 pixels width and 28 pixels height in greyscale"
      ],
      "metadata": {
        "id": "OX4vUZvj4ms5"
      }
    },
    {
      "cell_type": "code",
      "execution_count": null,
      "metadata": {
        "id": "WgKdAB29fsih"
      },
      "outputs": [],
      "source": [
        "import tensorflow as tf\n",
        "from tensorflow import keras\n",
        "from tensorflow.keras.models import Sequential\n",
        "from tensorflow.keras.layers import Dense,Flatten\n",
        "import matplotlib.pyplot as plt\n"
      ]
    },
    {
      "cell_type": "code",
      "source": [
        "(x_train, y_train), (x_test, y_test) = tf.keras.datasets.fashion_mnist.load_data()  ## load data in memory\n",
        "# x_train — image (pixel) data for 60,000 clothes. Used for building our model.\n",
        "# x_test — image (pixel) data for 10,000 clothes. Used for testing and validating our model.\n",
        "# y_train — classes (clothing type) for the clothing above. Used for building our model.\n",
        "# y_test — classes (clothing type) for the clothing above. Used for testing and validating our model."
      ],
      "metadata": {
        "colab": {
          "base_uri": "https://localhost:8080/"
        },
        "id": "O0EDELf6z9Bd",
        "outputId": "0cab41ac-fbae-4434-80b7-d9768ac98cbf"
      },
      "execution_count": null,
      "outputs": [
        {
          "output_type": "stream",
          "name": "stdout",
          "text": [
            "Downloading data from https://storage.googleapis.com/tensorflow/tf-keras-datasets/train-labels-idx1-ubyte.gz\n",
            "29515/29515 [==============================] - 0s 0us/step\n",
            "Downloading data from https://storage.googleapis.com/tensorflow/tf-keras-datasets/train-images-idx3-ubyte.gz\n",
            "26421880/26421880 [==============================] - 0s 0us/step\n",
            "Downloading data from https://storage.googleapis.com/tensorflow/tf-keras-datasets/t10k-labels-idx1-ubyte.gz\n",
            "5148/5148 [==============================] - 0s 0us/step\n",
            "Downloading data from https://storage.googleapis.com/tensorflow/tf-keras-datasets/t10k-images-idx3-ubyte.gz\n",
            "4422102/4422102 [==============================] - 0s 0us/step\n"
          ]
        }
      ]
    },
    {
      "cell_type": "code",
      "source": [
        "plt.imshow(x_train[0])"
      ],
      "metadata": {
        "colab": {
          "base_uri": "https://localhost:8080/",
          "height": 447
        },
        "id": "nmUVog-Q55ro",
        "outputId": "c71f1b07-c2ed-441e-d8b0-60de775eb93d"
      },
      "execution_count": null,
      "outputs": [
        {
          "output_type": "execute_result",
          "data": {
            "text/plain": [
              "<matplotlib.image.AxesImage at 0x7ca5bf8e8280>"
            ]
          },
          "metadata": {},
          "execution_count": 3
        },
        {
          "output_type": "display_data",
          "data": {
            "text/plain": [
              "<Figure size 640x480 with 1 Axes>"
            ],
            "image/png": "[encoded data removed]"
          },
          "metadata": {}
        }
      ]
    },
    {
      "cell_type": "code",
      "source": [
        "x_train,x_test =x_train/255.0,x_test/255.0"
      ],
      "metadata": {
        "id": "8HH2_7Lw7CHM"
      },
      "execution_count": null,
      "outputs": []
    },
    {
      "cell_type": "markdown",
      "source": [
        "**Build your Neural Network using Keras**"
      ],
      "metadata": {
        "id": "Yhntcpti_tnm"
      }
    },
    {
      "cell_type": "code",
      "source": [
        "model = keras.Sequential([\n",
        "    ##Flatten layer used to convert 2D to 1D so to make 784 neuron in input layer\n",
        "    Flatten(input_shape=(28, 28)),\n",
        "    # use to insert hidden layer\n",
        "    Dense(units=256, activation='sigmoid'), # units:it set no of neuron for each layer ,activation: parameter specifies a function that decides whether “the opinion” of a particular neuron\n",
        "    Dense(units=10, activation='softmax')  #last (output) layer It has 10 neurons because we have 10 different types of clothing in our data. You get the predictions of the model from this layer.\n",
        "])"
      ],
      "metadata": {
        "id": "S_q7OJ3X7al9"
      },
      "execution_count": null,
      "outputs": []
    },
    {
      "cell_type": "code",
      "source": [
        "model.summary()"
      ],
      "metadata": {
        "colab": {
          "base_uri": "https://localhost:8080/"
        },
        "id": "K-blLbbL7gQd",
        "outputId": "9090d937-be6e-49fe-9fc3-738e3a22f58a"
      },
      "execution_count": null,
      "outputs": [
        {
          "output_type": "stream",
          "name": "stdout",
          "text": [
            "Model: \"sequential\"\n",
            "_________________________________________________________________\n",
            " Layer (type)                Output Shape              Param #   \n",
            "=================================================================\n",
            " flatten (Flatten)           (None, 784)               0         \n",
            "                                                                 \n",
            " dense (Dense)               (None, 256)               200960    \n",
            "                                                                 \n",
            " dense_1 (Dense)             (None, 10)                2570      \n",
            "                                                                 \n",
            "=================================================================\n",
            "Total params: 203530 (795.04 KB)\n",
            "Trainable params: 203530 (795.04 KB)\n",
            "Non-trainable params: 0 (0.00 Byte)\n",
            "_________________________________________________________________\n"
          ]
        }
      ]
    },
    {
      "cell_type": "markdown",
      "source": [
        "**Train your model**"
      ],
      "metadata": {
        "id": "FKqN-9ZUAECF"
      }
    },
    {
      "cell_type": "code",
      "source": [
        "model.compile(optimizer='sgd',\n",
        "              loss=tf.losses.SparseCategoricalCrossentropy(from_logits=True),  #Logits are the raw, unnormalized scores produced by the model before applying the softmax activation function.\n",
        "              metrics=['accuracy'])"
      ],
      "metadata": {
        "id": "xeHWpwVz_YSg"
      },
      "execution_count": null,
      "outputs": []
    },
    {
      "cell_type": "code",
      "source": [
        "history= model.fit(x_train,y_train, validation_split=0.1,validation_data=(x_test,y_test), epochs=5)"
      ],
      "metadata": {
        "colab": {
          "base_uri": "https://localhost:8080/"
        },
        "id": "gQdVvh4kBJ8z",
        "outputId": "70094a67-7913-472e-cd0a-8492c28d2e6b"
      },
      "execution_count": null,
      "outputs": [
        {
          "output_type": "stream",
          "name": "stdout",
          "text": [
            "Epoch 1/5\n"
          ]
        },
        {
          "output_type": "stream",
          "name": "stderr",
          "text": [
            "/usr/local/lib/python3.10/dist-packages/keras/src/backend.py:5729: UserWarning: \"`sparse_categorical_crossentropy` received `from_logits=True`, but the `output` argument was produced by a Softmax activation and thus does not represent logits. Was this intended?\n",
            "  output, from_logits = _get_logits(\n"
          ]
        },
        {
          "output_type": "stream",
          "name": "stdout",
          "text": [
            "1875/1875 [==============================] - 5s 3ms/step - loss: 1.2008 - accuracy: 0.6726 - val_loss: 0.8271 - val_accuracy: 0.7363\n",
            "Epoch 2/5\n",
            "1875/1875 [==============================] - 4s 2ms/step - loss: 0.7287 - accuracy: 0.7588 - val_loss: 0.6869 - val_accuracy: 0.7620\n",
            "Epoch 3/5\n",
            "1875/1875 [==============================] - 7s 3ms/step - loss: 0.6344 - accuracy: 0.7803 - val_loss: 0.6236 - val_accuracy: 0.7814\n",
            "Epoch 4/5\n",
            "1875/1875 [==============================] - 9s 5ms/step - loss: 0.5852 - accuracy: 0.7966 - val_loss: 0.5889 - val_accuracy: 0.7889\n",
            "Epoch 5/5\n",
            "1875/1875 [==============================] - 6s 3ms/step - loss: 0.5530 - accuracy: 0.8076 - val_loss: 0.5601 - val_accuracy: 0.8031\n"
          ]
        }
      ]
    },
    {
      "cell_type": "code",
      "source": [
        "#visualizing the accuracy and loss\n",
        "plt.plot(history.history['accuracy'],label='Train accuracy')\n",
        "plt.plot(history.history['val_accuracy'],label='Validation accuracy')\n",
        "plt.title('model accuracy')\n",
        "plt.xlabel('epoch')\n",
        "plt.ylabel('accuracy')\n",
        "\n",
        "plt.legend(['training data','validation data'],loc ='lower right')"
      ],
      "metadata": {
        "colab": {
          "base_uri": "https://localhost:8080/",
          "height": 489
        },
        "id": "MxGH0-HgC7-9",
        "outputId": "e270cf8c-5afe-4b30-ce26-e4e55cc5c719"
      },
      "execution_count": null,
      "outputs": [
        {
          "output_type": "execute_result",
          "data": {
            "text/plain": [
              "<matplotlib.legend.Legend at 0x7ca5becdf520>"
            ]
          },
          "metadata": {},
          "execution_count": 9
        },
        {
          "output_type": "display_data",
          "data": {
            "text/plain": [
              "<Figure size 640x480 with 1 Axes>"
            ],
            "image/png": "[encoded data removed]"
          },
          "metadata": {}
        }
      ]
    },
    {
      "cell_type": "code",
      "source": [
        "plt.plot(history.history['loss'],label='Train lose')\n",
        "plt.plot(history.history['val_loss'],label='Validation  lose')\n",
        "plt.title('model accuracy')\n",
        "plt.xlabel('epoch')\n",
        "plt.ylabel('loss')\n",
        "\n",
        "plt.legend(['training data','validation data'],loc ='upper right')"
      ],
      "metadata": {
        "colab": {
          "base_uri": "https://localhost:8080/",
          "height": 489
        },
        "id": "TKQfjixVDv7P",
        "outputId": "d05769d9-c25c-4f68-acf8-eb35cc839c38"
      },
      "execution_count": null,
      "outputs": [
        {
          "output_type": "execute_result",
          "data": {
            "text/plain": [
              "<matplotlib.legend.Legend at 0x7ca58f7a7af0>"
            ]
          },
          "metadata": {},
          "execution_count": 10
        },
        {
          "output_type": "display_data",
          "data": {
            "text/plain": [
              "<Figure size 640x480 with 1 Axes>"
            ],
            "image/png": "[encoded data removed]"
          },
          "metadata": {}
        }
      ]
    },
    {
      "cell_type": "code",
      "source": [
        "#testing"
      ],
      "metadata": {
        "id": "1opqi1dIFBj-"
      },
      "execution_count": null,
      "outputs": []
    },
    {
      "cell_type": "code",
      "source": [
        "import cv2\n",
        "test_img=cv2.imread('/content/0_kKxxK1YXSyWMEBtS.png')\n",
        "plt.imshow(test_img)"
      ],
      "metadata": {
        "colab": {
          "base_uri": "https://localhost:8080/",
          "height": 452
        },
        "id": "L80NF0T12qLu",
        "outputId": "decd8e88-e018-43c6-d32f-ffab15d2d19a"
      },
      "execution_count": null,
      "outputs": [
        {
          "output_type": "execute_result",
          "data": {
            "text/plain": [
              "<matplotlib.image.AxesImage at 0x7ca583b8a6e0>"
            ]
          },
          "metadata": {},
          "execution_count": 14
        },
        {
          "output_type": "display_data",
          "data": {
            "text/plain": [
              "<Figure size 640x480 with 1 Axes>"
            ],
            "image/png": "[encoded data removed]"
          },
          "metadata": {}
        }
      ]
    },
    {
      "cell_type": "code",
      "source": [
        "test_img.shape"
      ],
      "metadata": {
        "colab": {
          "base_uri": "https://localhost:8080/"
        },
        "id": "H7yoCCwn28P_",
        "outputId": "528e39d7-e4e2-451f-a44d-7be32afc47a4"
      },
      "execution_count": null,
      "outputs": [
        {
          "output_type": "execute_result",
          "data": {
            "text/plain": [
              "(452, 451, 3)"
            ]
          },
          "metadata": {},
          "execution_count": 15
        }
      ]
    },
    {
      "cell_type": "code",
      "source": [
        "test_img=cv2.cvtColor(test_img,cv2.COLOR_BGR2GRAY)"
      ],
      "metadata": {
        "id": "YZruzdFK3Mgv"
      },
      "execution_count": null,
      "outputs": []
    },
    {
      "cell_type": "code",
      "source": [
        "test_img.shape"
      ],
      "metadata": {
        "colab": {
          "base_uri": "https://localhost:8080/"
        },
        "id": "DTZ41nC7ghc4",
        "outputId": "04364521-2fa3-4c39-b46d-1d814de6f462"
      },
      "execution_count": null,
      "outputs": [
        {
          "output_type": "execute_result",
          "data": {
            "text/plain": [
              "(452, 451)"
            ]
          },
          "metadata": {},
          "execution_count": 17
        }
      ]
    },
    {
      "cell_type": "code",
      "source": [
        "test_img =cv2.resize(test_img,(28,28))"
      ],
      "metadata": {
        "id": "_A1R-v4IV9IP"
      },
      "execution_count": null,
      "outputs": []
    },
    {
      "cell_type": "code",
      "source": [
        "plt.imshow(test_img)"
      ],
      "metadata": {
        "colab": {
          "base_uri": "https://localhost:8080/",
          "height": 447
        },
        "id": "ph4sKQVDX1Fc",
        "outputId": "3fd4beaf-220c-4431-f6e5-e519bc3f8cb9"
      },
      "execution_count": null,
      "outputs": [
        {
          "output_type": "execute_result",
          "data": {
            "text/plain": [
              "<matplotlib.image.AxesImage at 0x7ca583b2afe0>"
            ]
          },
          "metadata": {},
          "execution_count": 19
        },
        {
          "output_type": "display_data",
          "data": {
            "text/plain": [
              "<Figure size 640x480 with 1 Axes>"
            ],
            "image/png": "[encoded data removed]"
          },
          "metadata": {}
        }
      ]
    },
    {
      "cell_type": "code",
      "source": [
        "import numpy  as np\n",
        "test_img =np.reshape(test_img,(1,28,28))"
      ],
      "metadata": {
        "id": "xKX7Li0LX4uS"
      },
      "execution_count": null,
      "outputs": []
    },
    {
      "cell_type": "code",
      "source": [
        "model.predict(test_img)"
      ],
      "metadata": {
        "colab": {
          "base_uri": "https://localhost:8080/"
        },
        "id": "EwIOnA-VYE2d",
        "outputId": "0bae6051-30c4-435b-d3e9-e2271ed3ab46"
      },
      "execution_count": null,
      "outputs": [
        {
          "output_type": "stream",
          "name": "stdout",
          "text": [
            "1/1 [==============================] - 0s 84ms/step\n"
          ]
        },
        {
          "output_type": "execute_result",
          "data": {
            "text/plain": [
              "array([[1.2164273e-02, 2.4550661e-02, 1.1717786e-02, 5.4969162e-02,\n",
              "        7.1410447e-01, 1.2235475e-06, 2.6344761e-02, 2.7139693e-02,\n",
              "        1.1854752e-03, 1.2782249e-01]], dtype=float32)"
            ]
          },
          "metadata": {},
          "execution_count": 21
        }
      ]
    },
    {
      "cell_type": "code",
      "source": [
        "np.argmax(model.predict(test_img)[0])"
      ],
      "metadata": {
        "colab": {
          "base_uri": "https://localhost:8080/"
        },
        "id": "Q2OWa8V7YJ9y",
        "outputId": "0de00c81-d427-47c7-ef31-8e4e5cd3effe"
      },
      "execution_count": null,
      "outputs": [
        {
          "output_type": "stream",
          "name": "stdout",
          "text": [
            "1/1 [==============================] - 0s 17ms/step\n"
          ]
        },
        {
          "output_type": "execute_result",
          "data": {
            "text/plain": [
              "4"
            ]
          },
          "metadata": {},
          "execution_count": 24
        }
      ]
    },
    {
      "cell_type": "code",
      "source": [
        "model.predict(x_test[:10])"
      ],
      "metadata": {
        "colab": {
          "base_uri": "https://localhost:8080/"
        },
        "id": "tffU415rYTAv",
        "outputId": "18ff1604-b04d-4385-d382-a35a11cb3877"
      },
      "execution_count": null,
      "outputs": [
        {
          "output_type": "stream",
          "name": "stdout",
          "text": [
            "1/1 [==============================] - 0s 41ms/step\n"
          ]
        },
        {
          "output_type": "execute_result",
          "data": {
            "text/plain": [
              "array([[1.36316216e-04, 7.02797770e-05, 3.98445816e-04, 3.09382071e-04,\n",
              "        4.12764377e-04, 2.49531910e-01, 4.65276215e-04, 3.28033090e-01,\n",
              "        1.68887153e-02, 4.03753757e-01],\n",
              "       [8.98168946e-04, 7.87185927e-05, 8.97145569e-01, 3.99633165e-04,\n",
              "        2.97577027e-02, 4.69220722e-05, 7.11889341e-02, 7.14174007e-07,\n",
              "        4.70953935e-04, 1.26367959e-05],\n",
              "       [2.38344597e-04, 9.98352408e-01, 1.51969158e-04, 6.25375542e-04,\n",
              "        5.94595913e-04, 1.20537902e-06, 3.01353684e-05, 3.43833381e-06,\n",
              "        2.15027603e-06, 2.90112894e-07],\n",
              "       [3.63633066e-04, 9.93806183e-01, 5.26219956e-04, 4.06798674e-03,\n",
              "        1.11019961e-03, 1.73211229e-05, 8.33030645e-05, 1.86268371e-05,\n",
              "        3.68501810e-06, 2.96506164e-06],\n",
              "       [1.62716240e-01, 3.78554896e-03, 1.98675483e-01, 2.59852167e-02,\n",
              "        2.41290480e-02, 2.62583909e-03, 5.73867023e-01, 2.11769715e-04,\n",
              "        6.98996428e-03, 1.01377524e-03],\n",
              "       [6.11641770e-03, 9.71507132e-01, 2.05501867e-03, 5.09438338e-03,\n",
              "        1.35404821e-02, 1.17671871e-05, 1.62343355e-03, 1.51582653e-05,\n",
              "        3.28363167e-05, 3.25825090e-06],\n",
              "       [8.46783891e-02, 1.07575385e-02, 8.89304876e-02, 8.37864447e-03,\n",
              "        4.97589499e-01, 9.24055371e-03, 2.88384169e-01, 2.57667620e-04,\n",
              "        1.16428072e-02, 1.40128002e-04],\n",
              "       [8.80957767e-03, 3.82066704e-03, 1.85845688e-01, 8.99852440e-03,\n",
              "        2.79301226e-01, 4.55981912e-03, 4.97413963e-01, 1.38127580e-04,\n",
              "        1.08205760e-02, 2.91800563e-04],\n",
              "       [2.74654720e-02, 1.68231893e-02, 2.46713404e-02, 3.06925103e-02,\n",
              "        8.62845406e-03, 5.80960333e-01, 3.89872640e-02, 2.28972033e-01,\n",
              "        4.06898633e-02, 2.10942212e-03],\n",
              "       [3.24163819e-04, 3.44876957e-04, 2.75083701e-04, 4.74075205e-04,\n",
              "        2.52175436e-04, 5.82767092e-02, 4.46420163e-04, 9.30350840e-01,\n",
              "        6.71681110e-03, 2.53881351e-03]], dtype=float32)"
            ]
          },
          "metadata": {},
          "execution_count": 25
        }
      ]
    },
    {
      "cell_type": "code",
      "source": [
        "for arr in model.predict(x_test[:10]):\n",
        "  print(np.argmax(arr))"
      ],
      "metadata": {
        "colab": {
          "base_uri": "https://localhost:8080/"
        },
        "id": "d-t2uBSDZiIc",
        "outputId": "681f153b-652f-4137-c3ae-eada1d8fb0f7"
      },
      "execution_count": null,
      "outputs": [
        {
          "output_type": "stream",
          "name": "stdout",
          "text": [
            "1/1 [==============================] - 0s 16ms/step\n",
            "9\n",
            "2\n",
            "1\n",
            "1\n",
            "6\n",
            "1\n",
            "4\n",
            "6\n",
            "5\n",
            "7\n"
          ]
        }
      ]
    },
    {
      "cell_type": "code",
      "source": [],
      "metadata": {
        "id": "R5TWihqyaG_x"
      },
      "execution_count": null,
      "outputs": []
    }
  ]
}